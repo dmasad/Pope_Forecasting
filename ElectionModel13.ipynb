{
 "metadata": {
  "name": "ElectionModel13"
 },
 "nbformat": 3,
 "nbformat_minor": 0,
 "worksheets": [
  {
   "cells": [
    {
     "cell_type": "code",
     "collapsed": false,
     "input": [
      "import json\n",
      "from doc_vectors import *\n",
      "from nltk.corpus import stopwords\n",
      "\n",
      "from ElectorModel import *"
     ],
     "language": "python",
     "metadata": {},
     "outputs": [],
     "prompt_number": 1
    },
    {
     "cell_type": "code",
     "collapsed": false,
     "input": [
      "# Read in elector data:\n",
      "with open(\"ElectorData05.json\") as f:\n",
      "    elector_data = json.load(f)"
     ],
     "language": "python",
     "metadata": {},
     "outputs": [],
     "prompt_number": 2
    },
    {
     "cell_type": "code",
     "collapsed": false,
     "input": [
      "all_stopwords = stopwords.words(\"english\") + [\"[edit]\"]\n",
      "for elector in elector_data:\n",
      "    elector[\"TextVector\"] = find_ngrams(elector[\"FullText\"], n=3, stop_words = all_stopwords)"
     ],
     "language": "python",
     "metadata": {},
     "outputs": [],
     "prompt_number": 3
    },
    {
     "cell_type": "code",
     "collapsed": false,
     "input": [
      "vectors = {}\n",
      "for elector in elector_data:\n",
      "    vectors[elector[\"Name\"]] = elector[\"TextVector\"]\n",
      "find_distance = create_distance_matrix(vectors, jaccard_similarity, inverse=True)"
     ],
     "language": "python",
     "metadata": {},
     "outputs": [],
     "prompt_number": 4
    },
    {
     "cell_type": "code",
     "collapsed": false,
     "input": [
      "conclave = Election(vectors.keys(), 0.66, 10000)\n",
      "\n",
      "elector_prefs = []\n",
      "for elector in vectors.keys():\n",
      "    prefs = {}\n",
      "    for cardinal in vectors.keys():\n",
      "        if elector == cardinal: continue\n",
      "        prefs[cardinal] = find_distance(elector, cardinal)\n",
      "    conclave.add_elector(prefs, elector)\n",
      "    \n",
      "winner = conclave.run_elections()\n",
      "print winner\n",
      "print conclave.rounds"
     ],
     "language": "python",
     "metadata": {},
     "outputs": [
      {
       "output_type": "stream",
       "stream": "stdout",
       "text": [
        "Francis George\n",
        "2\n"
       ]
      }
     ],
     "prompt_number": 7
    },
    {
     "cell_type": "code",
     "collapsed": false,
     "input": [
      "outcomes = {}\n",
      "rounds = []\n",
      "for i in range(1000):\n",
      "    conclave = Election(vectors.keys(), 0.66, 10000)\n",
      "    \n",
      "    elector_prefs = []\n",
      "    for elector in vectors.keys():\n",
      "        prefs = {}\n",
      "        for cardinal in vectors.keys():\n",
      "            if elector == cardinal: continue\n",
      "            prefs[cardinal] = find_distance(elector, cardinal)\n",
      "        conclave.add_elector(prefs, elector)\n",
      "        \n",
      "    winner = conclave.run_elections()\n",
      "    rounds.append(conclave.rounds)\n",
      "    if winner in outcomes:\n",
      "        outcomes[winner] += 1\n",
      "    else:\n",
      "        outcomes[winner] = 1"
     ],
     "language": "python",
     "metadata": {},
     "outputs": [],
     "prompt_number": 14
    },
    {
     "cell_type": "code",
     "collapsed": false,
     "input": [
      "sorted(outcomes.keys(), key=lambda x: outcomes[x], reverse=True)"
     ],
     "language": "python",
     "metadata": {},
     "outputs": [
      {
       "output_type": "pyout",
       "prompt_number": 18,
       "text": [
        "[u\"Keith O'Brien\",\n",
        " u'George Pell',\n",
        " u'Joseph Ratzinger',\n",
        " u'Carlo Maria Martini',\n",
        " u'Miguel Obando y Bravo',\n",
        " u'Angelo Scola',\n",
        " u'Francis George',\n",
        " u'Tarcisio Bertone',\n",
        " u\"Cormac Murphy-O'Connor\",\n",
        " u'Renato Raffaele Martino',\n",
        " u'Giovanni Battista Re',\n",
        " u'Theodore McCarrick',\n",
        " u'Eus\\xe9bio Scheid',\n",
        " u'Adam Maida',\n",
        " u'Bernard Francis Law',\n",
        " u'Roger Mahony',\n",
        " u'Jorge Bergoglio',\n",
        " u'Francis Arinze',\n",
        " u'Fr\\xe9d\\xe9ric Etsou-Nzabi-Bamungwabi',\n",
        " u'Desmond Connell',\n",
        " u'Jean-Marie Lustiger',\n",
        " u'Marc Ouellet',\n",
        " u'Dar\\xedo Castrill\\xf3n Hoyos',\n",
        " u'Edmund Casimir Szoka',\n",
        " u'Giacomo Biffi',\n",
        " u'J\\xf3zef Glemp',\n",
        " u'Juan Luis Cipriani Thorne',\n",
        " u'Christoph Sch\\xf6nborn',\n",
        " u'Godfried Danneels',\n",
        " u'Jaime Lucas Ortega y Alamino',\n",
        " u'Mar Varkey Vithayathil',\n",
        " u'Angelo Sodano',\n",
        " u'Peter Turkson',\n",
        " u'Thomas Stafford Williams',\n",
        " u'Ricardo Vidal',\n",
        " u'Jos\\xe9 Freire Falc\\xe3o',\n",
        " u'Ivan Dias',\n",
        " u'Jean-Louis Tauran',\n",
        " u'Jos\\xe9 da Cruz Policarpo',\n",
        " u'Justin Rigali',\n",
        " u'Dionigi Tettamanzi',\n",
        " u'Joachim Meisner',\n",
        " u'Jean-Baptiste Ph\\u1ea1m Minh M\\u1eabn',\n",
        " u'William Wakefield Baum',\n",
        " u'Francesco Marchisano',\n",
        " u'Walter Kasper',\n",
        " u'Stephen Fumio Hamao',\n",
        " u'Gabriel Zubeir Wako',\n",
        " u'Juan Sandoval \\xcd\\xf1iguez',\n",
        " u'Camillo Ruini',\n",
        " u'\\xd3scar Andr\\xe9s Rodr\\xedguez Maradiaga',\n",
        " u'Edward Egan',\n",
        " u'Christian Tumi',\n",
        " u'L\\xe1szl\\xf3 Paskai',\n",
        " u'Ignace Daoud',\n",
        " u'Jean-Claude Turcotte',\n",
        " u'Polycarp Pengo',\n",
        " u'Julio Terrazas Sandoval',\n",
        " u'William Keeler',\n",
        " u'Lubomyr Husar',\n",
        " u'Michele Giordano',\n",
        " u'Norberto Rivera Carrera',\n",
        " u'Alfonso L\\xf3pez Trujillo',\n",
        " u'Ricardo Mar\\xeda Carles Gord\\xf3',\n",
        " u'Zenon Grocholewski',\n",
        " u'Crescenzio Sepe',\n",
        " u'Cl\\xe1udio Hummes',\n",
        " u'Karl Lehmann',\n",
        " u'James Francis Stafford',\n",
        " u'Michael Kitbunchu',\n",
        " u'Juli\\xe1n Herranz Casado',\n",
        " u'Georg Sterzinsky',\n",
        " u'Armand Razafindratandra',\n",
        " u'Marian Jaworski',\n",
        " u'Miloslav Vlk',\n",
        " u'Eduardo Mart\\xednez Somalo',\n",
        " u'Emmanuel Wamala',\n",
        " u'Francisco \\xc1lvarez Mart\\xednez',\n",
        " u'Javier Lozano Barrag\\xe1n',\n",
        " u'Pedro Rubiano S\\xe1enz',\n",
        " u'Philippe Barbarin',\n",
        " u'Francisco Javier Err\\xe1zuriz Ossa',\n",
        " u'Audrys Juozas Ba\\u010dkis',\n",
        " u'Salvatore De Giorgi',\n",
        " u'Sergio Sebastiani',\n",
        " u'Paul Poupard',\n",
        " u'Jos\\xe9 Saraiva Martins',\n",
        " u'Henri Schwery',\n",
        " u'Severino Poletto',\n",
        " u'Attilio Nicora',\n",
        " u'Mario Francesco Pompedda',\n",
        " u'Julius Riyadi Darmaatmadja',\n",
        " u'Franciszek Macharski',\n",
        " u'Adrianus Johannes Simonis',\n",
        " u'Jorge Arturo Medina Est\\xe9vez',\n",
        " u'Vinko Pulji\\u0107',\n",
        " u'Rodolfo Quezada Toru\\xf1o',\n",
        " u'Nicol\\xe1s de Jes\\xfas L\\xf3pez Rodr\\xedguez',\n",
        " u'J\\u0101nis Puj\\u0101ts',\n",
        " u'Wilfrid Fox Napier',\n",
        " u'Bernard Panafieu',\n",
        " u'Aloysius Ambrozic',\n",
        " u'Friedrich Wetter',\n",
        " u'Antonio Mar\\xeda Rouco Varela',\n",
        " u'Peter Shirayanagi',\n",
        " u'Carlos Amigo Vallejo',\n",
        " u'Bernard Agr\\xe9',\n",
        " u'Anthony Olubumni Okogie',\n",
        " u'Josip Bozani\\u0107',\n",
        " u'Ennio Antonelli',\n",
        " u'Geraldo Majella Agnelo',\n",
        " u'P\\xe9ter Erd\\u0151',\n",
        " u'Telesphore Toppo',\n",
        " u'Agostino Cacciavillan',\n",
        " u'Marco C\\xe9']"
       ]
      }
     ],
     "prompt_number": 18
    },
    {
     "cell_type": "code",
     "collapsed": false,
     "input": [
      "sorted?"
     ],
     "language": "python",
     "metadata": {},
     "outputs": [],
     "prompt_number": 17
    },
    {
     "cell_type": "code",
     "collapsed": false,
     "input": [],
     "language": "python",
     "metadata": {},
     "outputs": []
    }
   ],
   "metadata": {}
  }
 ]
}