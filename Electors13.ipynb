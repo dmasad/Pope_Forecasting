{
 "metadata": {
  "name": "Electors13"
 },
 "nbformat": 3,
 "nbformat_minor": 0,
 "worksheets": [
  {
   "cells": [
    {
     "cell_type": "code",
     "collapsed": false,
     "input": [
      "from bs4 import BeautifulSoup\n",
      "import urllib2\n",
      "import json"
     ],
     "language": "python",
     "metadata": {},
     "outputs": [],
     "prompt_number": 1
    },
    {
     "cell_type": "code",
     "collapsed": false,
     "input": [
      "BASE_URL = \"http://en.wikipedia.org\"\n",
      "FIRST_URL = \"http://en.wikipedia.org/wiki/Cardinal_electors_for_the_papal_conclave,_2013\"\n",
      "WIKI_API_JSON = \"http://en.wikipedia.org/w/api.php?action=parse&format=json&redirects=true&page=\"\n",
      "header = {'User-Agent': 'Mozilla/4.0 (compatible; MSIE 5.5; Windows NT)'}"
     ],
     "language": "python",
     "metadata": {},
     "outputs": [],
     "prompt_number": 2
    },
    {
     "cell_type": "code",
     "collapsed": false,
     "input": [
      "req = urllib2.Request(FIRST_URL,None,header)\n",
      "page = urllib2.urlopen(req)\n",
      "page_text = page.read()"
     ],
     "language": "python",
     "metadata": {},
     "outputs": [],
     "prompt_number": 3
    },
    {
     "cell_type": "code",
     "collapsed": false,
     "input": [
      "soup = BeautifulSoup(page_text)"
     ],
     "language": "python",
     "metadata": {},
     "outputs": [],
     "prompt_number": 4
    },
    {
     "cell_type": "code",
     "collapsed": false,
     "input": [
      "# Get all the cardinal electors from the page\n",
      "links = []\n",
      "table = soup.find(\"table\", \"wikitable sortable\")\n",
      "rows = table.findAll(\"tr\")\n",
      "for row in rows:\n",
      "    link = row.find(\"span\", \"vcard\")\n",
      "    links.append(link)\n",
      "print len(links)"
     ],
     "language": "python",
     "metadata": {},
     "outputs": [
      {
       "output_type": "stream",
       "stream": "stdout",
       "text": [
        "116\n"
       ]
      }
     ],
     "prompt_number": 9
    },
    {
     "cell_type": "code",
     "collapsed": false,
     "input": [
      "# Extract the names and links:\n",
      "electors = []\n",
      "for entry in links:\n",
      "    if entry is None: continue\n",
      "    first_link = entry.find(\"a\")\n",
      "    name = first_link.get_text()\n",
      "    url = first_link.get(\"href\")\n",
      "    electors.append({\"Name\": name, \"url\": url})"
     ],
     "language": "python",
     "metadata": {},
     "outputs": [],
     "prompt_number": 17
    },
    {
     "cell_type": "code",
     "collapsed": false,
     "input": [
      "# Get the text for each via the Wikimedia JSON API:\n",
      "for elector in electors:\n",
      "    url = elector[\"url\"][6:] # Drop the '/wiki/'\n",
      "    page = urllib2.urlopen(WIKI_API_JSON + url).read()\n",
      "    page_json = json.loads(page)\n",
      "    page_text = page_json[\"parse\"][\"text\"].values()[0]\n",
      "    page_soup = BeautifulSoup(page_text)\n",
      "    text = page_soup.get_text()\n",
      "    elector[\"FullText\"] = text"
     ],
     "language": "python",
     "metadata": {},
     "outputs": [],
     "prompt_number": 19
    },
    {
     "cell_type": "code",
     "collapsed": false,
     "input": [
      "# Save:\n",
      "with open(\"ElectorData13.json\", \"wb\") as f:\n",
      "    json.dump(electors, f)"
     ],
     "language": "python",
     "metadata": {},
     "outputs": [],
     "prompt_number": 21
    },
    {
     "cell_type": "code",
     "collapsed": false,
     "input": [],
     "language": "python",
     "metadata": {},
     "outputs": []
    }
   ],
   "metadata": {}
  }
 ]
}