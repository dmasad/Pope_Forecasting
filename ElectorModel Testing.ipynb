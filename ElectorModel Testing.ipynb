{
 "metadata": {
  "name": "ElectorModel Testing"
 },
 "nbformat": 3,
 "nbformat_minor": 0,
 "worksheets": [
  {
   "cells": [
    {
     "cell_type": "code",
     "collapsed": false,
     "input": [
      "from ElectorModel import *"
     ],
     "language": "python",
     "metadata": {},
     "outputs": [],
     "prompt_number": 1
    },
    {
     "cell_type": "code",
     "collapsed": false,
     "input": [
      "elector_prefs = [\n",
      "                 {\"A\": 1, \"B\": 2, \"C\": 3},\n",
      "                 {\"A\": 1, \"B\": 3, \"C\": 2},\n",
      "                 {\"A\": 3, \"B\": 2, \"C\": 1},\n",
      "                 {\"A\": 3, \"B\": 2, \"C\": 1}]"
     ],
     "language": "python",
     "metadata": {},
     "outputs": [],
     "prompt_number": 2
    },
    {
     "cell_type": "code",
     "collapsed": false,
     "input": [
      "election = Election(['A', 'B', 'C'], max_rounds = 1000)\n",
      "for pref_set in elector_prefs:\n",
      "    election.add_elector(pref_set)"
     ],
     "language": "python",
     "metadata": {},
     "outputs": [],
     "prompt_number": 13
    },
    {
     "cell_type": "code",
     "collapsed": false,
     "input": [
      "election.run_elections()\n",
      "print election.winner"
     ],
     "language": "python",
     "metadata": {},
     "outputs": [
      {
       "output_type": "stream",
       "stream": "stdout",
       "text": [
        "B\n"
       ]
      }
     ],
     "prompt_number": 14
    },
    {
     "cell_type": "code",
     "collapsed": false,
     "input": [
      "election.vote_rounds"
     ],
     "language": "python",
     "metadata": {},
     "outputs": [
      {
       "output_type": "pyout",
       "prompt_number": 15,
       "text": [
        "[{'A': 1, 'B': 2, 'C': 1}]"
       ]
      }
     ],
     "prompt_number": 15
    },
    {
     "cell_type": "code",
     "collapsed": false,
     "input": [
      "results = {\"A\": 0, \"B\": 0, \"C\": 0}\n",
      "for i in range(1000):\n",
      "    election = Election(['A', 'B', 'C'], max_rounds = 1000)\n",
      "    for pref_set in elector_prefs:\n",
      "        election.add_elector(pref_set)\n",
      "    election.run_elections()\n",
      "    results[election.winner] += 1"
     ],
     "language": "python",
     "metadata": {},
     "outputs": [],
     "prompt_number": 5
    },
    {
     "cell_type": "code",
     "collapsed": false,
     "input": [
      "results"
     ],
     "language": "python",
     "metadata": {},
     "outputs": [
      {
       "output_type": "pyout",
       "prompt_number": 6,
       "text": [
        "{'A': 251, 'B': 478, 'C': 271}"
       ]
      }
     ],
     "prompt_number": 6
    },
    {
     "cell_type": "code",
     "collapsed": false,
     "input": [],
     "language": "python",
     "metadata": {},
     "outputs": []
    }
   ],
   "metadata": {}
  }
 ]
}