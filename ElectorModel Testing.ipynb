{
 "metadata": {
  "name": "ElectorModel Testing"
 },
 "nbformat": 3,
 "nbformat_minor": 0,
 "worksheets": [
  {
   "cells": [
    {
     "cell_type": "code",
     "collapsed": false,
     "input": [
      "from ElectorModel import *"
     ],
     "language": "python",
     "metadata": {},
     "outputs": [],
     "prompt_number": 1
    },
    {
     "cell_type": "code",
     "collapsed": false,
     "input": [
      "elector_prefs = [\n",
      "                 {\"A\": 1, \"B\": 2, \"C\": 3},\n",
      "                 {\"A\": 1, \"B\": 3, \"C\": 2},\n",
      "                 {\"A\": 3, \"B\": 2, \"C\": 1},\n",
      "                 {\"A\": 3, \"B\": 2, \"C\": 1}]"
     ],
     "language": "python",
     "metadata": {},
     "outputs": [],
     "prompt_number": 2
    },
    {
     "cell_type": "code",
     "collapsed": false,
     "input": [
      "election = Election(['A', 'B', 'C'], max_rounds = 1000)\n",
      "for pref_set in elector_prefs:\n",
      "    election.add_elector(pref_set)"
     ],
     "language": "python",
     "metadata": {},
     "outputs": [],
     "prompt_number": 3
    },
    {
     "cell_type": "code",
     "collapsed": false,
     "input": [
      "winner = election.run_elections()\n",
      "print winner"
     ],
     "language": "python",
     "metadata": {},
     "outputs": [
      {
       "output_type": "stream",
       "stream": "stdout",
       "text": [
        "A\n"
       ]
      }
     ],
     "prompt_number": 7
    },
    {
     "cell_type": "code",
     "collapsed": false,
     "input": [
      "election.vote_rounds[:10]"
     ],
     "language": "python",
     "metadata": {},
     "outputs": [
      {
       "output_type": "pyout",
       "prompt_number": 8,
       "text": [
        "[{'A': 2, 'B': 1, 'C': 1},\n",
        " {'A': 2, 'B': 1, 'C': 1},\n",
        " {'A': 2, 'B': 1, 'C': 1},\n",
        " {'A': 2, 'B': 1, 'C': 1}]"
       ]
      }
     ],
     "prompt_number": 8
    },
    {
     "cell_type": "code",
     "collapsed": false,
     "input": [
      "results = {\"A\": 0, \"B\": 0, \"C\": 0}\n",
      "for i in range(1000):\n",
      "    election = Election(['A', 'B', 'C'], max_rounds = 1000)\n",
      "    for pref_set in elector_prefs:\n",
      "        election.add_elector(pref_set)\n",
      "    winner = election.run_elections()\n",
      "    results[winner] += 1"
     ],
     "language": "python",
     "metadata": {},
     "outputs": [],
     "prompt_number": 9
    },
    {
     "cell_type": "code",
     "collapsed": false,
     "input": [
      "results"
     ],
     "language": "python",
     "metadata": {},
     "outputs": [
      {
       "output_type": "pyout",
       "prompt_number": 10,
       "text": [
        "{'A': 236, 'B': 506, 'C': 258}"
       ]
      }
     ],
     "prompt_number": 10
    },
    {
     "cell_type": "code",
     "collapsed": false,
     "input": [],
     "language": "python",
     "metadata": {},
     "outputs": []
    }
   ],
   "metadata": {}
  }
 ]
}